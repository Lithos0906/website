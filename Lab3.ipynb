{
 "cells": [
  {
   "cell_type": "code",
   "execution_count": null,
   "id": "3ba183c3",
   "metadata": {},
   "outputs": [],
   "source": [
    "import pandas as pd\n",
    "import matplotlib.pyplot as plt\n",
    "import statsmodels.api as sm\n",
    "from statsmodels.formula.api import ols\n",
    "import seaborn as sns\n",
    "import numpy as np\n",
    "import pandas.tseries\n",
    "plt.style.use('fivethirtyeight')"
   ]
  },
  {
   "cell_type": "code",
   "execution_count": null,
   "id": "d7181bbc",
   "metadata": {},
   "outputs": [],
   "source": [
    "mydata = pd.read_csv('Lab3_Diet.csv')  \n",
    "print(mydata.head()) \n",
    "print('The total number of rows in the dataset:', mydata.size)"
   ]
  },
  {
   "cell_type": "code",
   "execution_count": null,
   "id": "7184bc5f",
   "metadata": {},
   "outputs": [],
   "source": [
    "f, ax = plt.subplots(figsize = (20,9))                         # Create a figure and axis\n",
    "plt.title('Weight Distributions among Sample')                 # Set the title of the plot\n",
    "plt.ylabel('pdf')                                              # Set the y-axis label\n",
    "sns.histplot(mydata.weight6weeks, kde=True, stat=\"density\")    # Plot the histogram with density\n",
    "plt.show()                                                     # Show the plot"
   ]
  },
  {
   "cell_type": "code",
   "execution_count": null,
   "id": "ded389b3",
   "metadata": {},
   "outputs": [],
   "source": [
    "f, ax = plt.subplots(figsize = (20,9))                                                                            # Create a figure and axis\n",
    "sns.histplot( mydata[mydata.gender == '1'].weight6weeks, ax = ax, label = 'Male',  kde=True, stat=\"density\")      # Plot the histogram with density\n",
    "sns.histplot( mydata[mydata.gender == '0'].weight6weeks, ax = ax, label = 'Female',  kde=True, stat=\"density\")    # Plot the histogram with density\n",
    "plt.title('Weight Distribution for Each Gender')                                                                  # Set the title of the plot\n",
    "plt.legend()                                                                                                      # Add a legend to the plot\n",
    "plt.show()                                                                                                        # Show the plot"
   ]
  },
  {
   "cell_type": "code",
   "execution_count": null,
   "id": "93f9dce9",
   "metadata": {},
   "outputs": [],
   "source": [
    "def infergender(x):\n",
    "    if x == '1':\n",
    "        return 'Male'\n",
    "    if x == '0':\n",
    "        return 'Female'\n",
    "    return 'Other'\n",
    "# \n",
    "def showdistribution(df, gender, column, group):\n",
    "    f, ax = plt.subplots(figsize = (20, 9))\n",
    "    plt.title( 'Weight Distribution for {} on each {}'.format(gender, column))\n",
    "    for groupmember in group:\n",
    "        sns.histplot(df[df[column] == groupmember].weight6weeks, label='{}'.format(groupmember), kde=True, stat=\"density\")\n",
    "    plt.legend()\n",
    "    plt.show()\n",
    "\n",
    "uniquediet = mydata.Diet.unique()\n",
    "uniquegender = mydata.gender.unique()\n",
    "\n",
    "for gender in uniquegender:\n",
    "    if gender != ' ':\n",
    "        showdistribution(mydata[mydata.gender == gender], infergender(gender), 'Diet', uniquediet)"
   ]
  },
  {
   "cell_type": "code",
   "execution_count": null,
   "id": "90704ece",
   "metadata": {},
   "outputs": [],
   "source": [
    "print(mydata.groupby('gender').agg(\n",
    "    [np.mean, np.median, np.count_nonzero, np.std]).weight6weeks)"
   ]
  },
  {
   "cell_type": "code",
   "execution_count": null,
   "id": "d4b4827d",
   "metadata": {},
   "outputs": [],
   "source": [
    "print(mydata.groupby(['gender', 'Diet']).agg(  \n",
    "        [np.mean, np.median, np.count_nonzero, np.std]).weight6weeks)"
   ]
  },
  {
   "cell_type": "code",
   "execution_count": null,
   "id": "ba5d5cbb",
   "metadata": {},
   "outputs": [],
   "source": [
    "mymod = ols('Height ~ Diet', data = mydata[mydata.gender == '0']).fit()\n",
    "# performing type 2 anova test\n",
    "aovtable = sm.stats.anova_lm(mymod, typ = 2)\n",
    "print('ANOVA table for Female')\n",
    "print('----------------------')\n",
    "print(aovtable)\n",
    "print()\n",
    "\n",
    "mymod = ols('Height ~ Diet', data = mydata[mydata.gender == '1']).fit()\n",
    "# performing type 2 anova test\n",
    "aovtable = sm.stats.anova_lm(mymod, typ = 2)\n",
    "print('ANOVA table for Male')\n",
    "print('----------------------')\n",
    "print(aovtable)"
   ]
  }
 ],
 "metadata": {
  "kernelspec": {
   "display_name": "Python 3",
   "language": "python",
   "name": "python3"
  },
  "language_info": {
   "codemirror_mode": {
    "name": "ipython",
    "version": 3
   },
   "file_extension": ".py",
   "mimetype": "text/x-python",
   "name": "python",
   "nbconvert_exporter": "python",
   "pygments_lexer": "ipython3",
   "version": "3.11.2"
  }
 },
 "nbformat": 4,
 "nbformat_minor": 5
}
